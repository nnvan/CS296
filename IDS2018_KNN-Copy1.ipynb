{
 "cells": [
  {
   "cell_type": "code",
   "execution_count": 2,
   "metadata": {},
   "outputs": [
    {
     "name": "stdout",
     "output_type": "stream",
     "text": [
      "[[241762     15      8   2835]\n",
      " [     2   8300      0      0]\n",
      " [     2      0   2187      0]\n",
      " [ 12592      0      1   6042]]\n",
      "                       precision    recall  f1-score   support\n",
      "\n",
      "               Benign       0.95      0.99      0.97    244620\n",
      "DoS attacks-GoldenEye       1.00      1.00      1.00      8302\n",
      "DoS attacks-Slowloris       1.00      1.00      1.00      2189\n",
      "        Infilteration       0.68      0.32      0.44     18635\n",
      "\n",
      "             accuracy                           0.94    273746\n",
      "            macro avg       0.91      0.83      0.85    273746\n",
      "         weighted avg       0.93      0.94      0.93    273746\n",
      "\n"
     ]
    }
   ],
   "source": [
    "import pandas as pd\n",
    "import matplotlib.pyplot as plt\n",
    "import seaborn as sns\n",
    "import numpy as np\n",
    "\n",
    "%matplotlib inline\n",
    "\n",
    "df1 = pd.read_csv('Thursday-01-03-2018_TrafficForML_CICFlowMeter.csv', low_memory=False)\n",
    "df2 = pd.read_csv('Thursday-15-02-2018_TrafficForML_CICFlowMeter.csv', low_memory=False)\n",
    "\n",
    "df = pd.concat([df1,df2])\n",
    "\n",
    "del df['Timestamp'] \n",
    "\n",
    "df['keep'] = df.iloc[:, 0:-1].apply(\n",
    "    lambda row: pd.to_numeric(row, errors='coerce').notnull().all(),\n",
    "    axis=1\n",
    ")\n",
    "\n",
    "df = df.replace([np.inf, -np.inf], np.nan)\n",
    "df = df[df['keep']]\n",
    "del df['keep']\n",
    "\n",
    "df = df.dropna()\n",
    "df = df.reset_index(drop=True)\n",
    "\n",
    "X = df.iloc[:, :-1].values #features are all but last column\n",
    "y = df.iloc[:, 78].values #label is last column\n",
    "\n",
    "from sklearn.model_selection import train_test_split\n",
    "X_train, X_test, y_train, y_test = train_test_split(X, y, test_size=0.20)\n",
    "\n",
    "from sklearn.preprocessing import StandardScaler\n",
    "scaler = StandardScaler()\n",
    "scaler.fit(X_train)\n",
    "\n",
    "X_train = scaler.transform(X_train)\n",
    "X_test = scaler.transform(X_test)\n",
    "\n",
    "from sklearn.neighbors import KNeighborsClassifier\n",
    "classifier = KNeighborsClassifier(n_neighbors=5)\n",
    "classifier.fit(X_train, y_train)\n",
    "\n",
    "y_pred = classifier.predict(X_test)\n",
    "\n",
    "from sklearn.metrics import classification_report, confusion_matrix\n",
    "print(confusion_matrix(y_test, y_pred))\n",
    "print(classification_report(y_test, y_pred))"
   ]
  },
  {
   "cell_type": "code",
   "execution_count": null,
   "metadata": {},
   "outputs": [],
   "source": []
  }
 ],
 "metadata": {
  "kernelspec": {
   "display_name": "Python 3",
   "language": "python",
   "name": "python3"
  },
  "language_info": {
   "codemirror_mode": {
    "name": "ipython",
    "version": 3
   },
   "file_extension": ".py",
   "mimetype": "text/x-python",
   "name": "python",
   "nbconvert_exporter": "python",
   "pygments_lexer": "ipython3",
   "version": "3.7.6"
  }
 },
 "nbformat": 4,
 "nbformat_minor": 4
}
