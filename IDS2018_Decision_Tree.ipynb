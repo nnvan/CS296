{
 "cells": [
  {
   "cell_type": "code",
   "execution_count": 57,
   "metadata": {},
   "outputs": [
    {
     "data": {
      "text/plain": [
       "(328181, 79)"
      ]
     },
     "execution_count": 57,
     "metadata": {},
     "output_type": "execute_result"
    }
   ],
   "source": [
    "import pandas as pd\n",
    "import matplotlib.pyplot as plt\n",
    "import seaborn as sns\n",
    "import numpy as np\n",
    "\n",
    "%matplotlib inline\n",
    "\n",
    "df = pd.read_csv('Thursday-01-03-2018_TrafficForML_CICFlowMeter.csv', low_memory=False)\n",
    "\n",
    "del df['Timestamp'] \n",
    "\n",
    "df['keep'] = df.iloc[:, 0:-1].apply(\n",
    "    lambda row: pd.to_numeric(row, errors='coerce').notnull().all(),\n",
    "    axis=1\n",
    ")\n",
    "\n",
    "df = df.replace([np.inf, -np.inf], np.nan)\n",
    "df = df[df['keep']]\n",
    "del df['keep']\n",
    "\n",
    "df = df.dropna()\n",
    "df = df.reset_index(drop=True)\n",
    "\n",
    "df.shape"
   ]
  },
  {
   "cell_type": "code",
   "execution_count": 58,
   "metadata": {},
   "outputs": [
    {
     "name": "stdout",
     "output_type": "stream",
     "text": [
      "[[38491  8749]\n",
      " [10372  8025]]\n",
      "               precision    recall  f1-score   support\n",
      "\n",
      "       Benign       0.79      0.81      0.80     47240\n",
      "Infilteration       0.48      0.44      0.46     18397\n",
      "\n",
      "     accuracy                           0.71     65637\n",
      "    macro avg       0.63      0.63      0.63     65637\n",
      " weighted avg       0.70      0.71      0.70     65637\n",
      "\n"
     ]
    }
   ],
   "source": [
    "X = df.iloc[:, :-1].values #features are all but last column\n",
    "y = df.iloc[:, 78].values #label is last column\n",
    "\n",
    "from sklearn.model_selection import train_test_split\n",
    "X_train, X_test, y_train, y_test = train_test_split(X, y, test_size=0.20)\n",
    "\n",
    "from sklearn.tree import DecisionTreeClassifier\n",
    "classifier = DecisionTreeClassifier()\n",
    "classifier.fit(X_train, y_train)\n",
    "\n",
    "y_pred = classifier.predict(X_test)\n",
    "\n",
    "from sklearn.metrics import classification_report, confusion_matrix\n",
    "print(confusion_matrix(y_test, y_pred))\n",
    "print(classification_report(y_test, y_pred))"
   ]
  },
  {
   "cell_type": "code",
   "execution_count": null,
   "metadata": {},
   "outputs": [],
   "source": []
  }
 ],
 "metadata": {
  "kernelspec": {
   "display_name": "Python 3",
   "language": "python",
   "name": "python3"
  },
  "language_info": {
   "codemirror_mode": {
    "name": "ipython",
    "version": 3
   },
   "file_extension": ".py",
   "mimetype": "text/x-python",
   "name": "python",
   "nbconvert_exporter": "python",
   "pygments_lexer": "ipython3",
   "version": "3.7.6"
  }
 },
 "nbformat": 4,
 "nbformat_minor": 4
}
